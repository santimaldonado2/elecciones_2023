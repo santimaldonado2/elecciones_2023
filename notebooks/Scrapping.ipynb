{
 "cells": [
  {
   "cell_type": "code",
   "execution_count": 42,
   "id": "ffd75440-0e7a-431b-a3d2-9ef4526971ec",
   "metadata": {},
   "outputs": [],
   "source": [
    "import requests\n",
    "import json"
   ]
  },
  {
   "cell_type": "code",
   "execution_count": 3,
   "id": "5d3d11d1-a98a-4f3f-be9a-1b15dd61f6fe",
   "metadata": {},
   "outputs": [],
   "source": [
    "BASE_URL = \"https://resultados.gob.ar/backend-difu/scope/data/getScopeData/{desk_code}/1\""
   ]
  },
  {
   "cell_type": "code",
   "execution_count": 4,
   "id": "92561c0a-b8a7-4117-9b92-dc65ce8a02c1",
   "metadata": {},
   "outputs": [],
   "source": [
    "desk_code = \"0201600047X\""
   ]
  },
  {
   "cell_type": "code",
   "execution_count": 8,
   "id": "1626538b-5c5e-427e-a63d-a197af0ed24a",
   "metadata": {},
   "outputs": [],
   "source": [
    "response = requests.get(BASE_URL.format(desk_code = desk_code))"
   ]
  },
  {
   "cell_type": "code",
   "execution_count": 9,
   "id": "2e225827-35cc-45ae-a403-a1433f77e867",
   "metadata": {},
   "outputs": [
    {
     "data": {
      "text/plain": [
       "True"
      ]
     },
     "execution_count": 9,
     "metadata": {},
     "output_type": "execute_result"
    }
   ],
   "source": [
    "response.ok"
   ]
  },
  {
   "cell_type": "code",
   "execution_count": 10,
   "id": "94dae89f-71b7-491f-9cc2-398d8727f9b0",
   "metadata": {},
   "outputs": [],
   "source": [
    "content = response.json()"
   ]
  },
  {
   "cell_type": "code",
   "execution_count": 11,
   "id": "cf0ca1d8-2e4d-47fc-8c11-1983b465503d",
   "metadata": {},
   "outputs": [
    {
     "data": {
      "text/plain": [
       "{'idAmbito': {'level': 8.0,\n",
       "  'codigo': '0201600047X',\n",
       "  'scopeId': {'timestamp': 0.0,\n",
       "   'counter': 5019782.0,\n",
       "   'randomValue1': 0.0,\n",
       "   'randomValue2': 12016.0}},\n",
       " 'eleccionId': 1.0,\n",
       " 'envio': 37.0}"
      ]
     },
     "execution_count": 11,
     "metadata": {},
     "output_type": "execute_result"
    }
   ],
   "source": [
    "content['id']"
   ]
  },
  {
   "cell_type": "code",
   "execution_count": 12,
   "id": "7c2b6760-fb43-4d4c-ad2f-2fb5624dfdc6",
   "metadata": {},
   "outputs": [
    {
     "data": {
      "text/plain": [
       "{'id': {'idAmbito': {'level': 8.0,\n",
       "   'codigo': '0201600047X',\n",
       "   'scopeId': {'timestamp': 0.0,\n",
       "    'counter': 5019782.0,\n",
       "    'randomValue1': 0.0,\n",
       "    'randomValue2': 12016.0}},\n",
       "  'eleccionId': 1.0,\n",
       "  'envio': 37.0},\n",
       " 'date': 'Oct 22, 2023, 9:28:35 PM',\n",
       " 'fathers': [{'level': 7.0,\n",
       "   'name': 'COLEGIO SAN ROQUE',\n",
       "   'codigo': '020160015529009',\n",
       "   'scopeId': {'timestamp': 0.0,\n",
       "    'counter': 10783217.0,\n",
       "    'randomValue1': 183.0,\n",
       "    'randomValue2': 23217.0}},\n",
       "  {'level': 6.0,\n",
       "   'name': '00155',\n",
       "   'codigo': '0201600155',\n",
       "   'scopeId': {'timestamp': 0.0,\n",
       "    'counter': 2735636.0,\n",
       "    'randomValue1': 0.0,\n",
       "    'randomValue2': 120.0}},\n",
       "  {'level': 5.0,\n",
       "   'name': 'Campana',\n",
       "   'codigo': '02016016',\n",
       "   'scopeId': {'timestamp': 0.0,\n",
       "    'counter': 3382949.0,\n",
       "    'randomValue1': 0.0,\n",
       "    'randomValue2': 1.0}},\n",
       "  {'level': 4.0,\n",
       "   'name': 'Campana',\n",
       "   'codigo': '02016',\n",
       "   'scopeId': {'timestamp': 0.0,\n",
       "    'counter': 20164.0,\n",
       "    'randomValue1': 0.0,\n",
       "    'randomValue2': 0.0}},\n",
       "  {'level': 3.0,\n",
       "   'name': 'Sección Primera',\n",
       "   'codigo': '021',\n",
       "   'scopeId': {'timestamp': 0.0,\n",
       "    'counter': 213.0,\n",
       "    'randomValue1': 0.0,\n",
       "    'randomValue2': 0.0}},\n",
       "  {'level': 2.0,\n",
       "   'name': 'Buenos Aires',\n",
       "   'codigo': '02',\n",
       "   'scopeId': {'timestamp': 0.0,\n",
       "    'counter': 22.0,\n",
       "    'randomValue1': 0.0,\n",
       "    'randomValue2': 0.0}},\n",
       "  {'level': 1.0,\n",
       "   'name': 'Argentina',\n",
       "   'codigo': '1',\n",
       "   'scopeId': {'timestamp': 0.0,\n",
       "    'counter': 11.0,\n",
       "    'randomValue1': 0.0,\n",
       "    'randomValue2': 0.0}}],\n",
       " 'cargos': 0.0,\n",
       " 'showCargos': 0.0,\n",
       " 'census': 350.0,\n",
       " 'pollingCensus': 350.0,\n",
       " 'numStation': 1.0,\n",
       " 'pollingNumStation': 1.0,\n",
       " 'pollingPercCensus': 100.0,\n",
       " 'pollingPercStation': 100.0,\n",
       " 'electores': 253.0,\n",
       " 'sobres': 253.0,\n",
       " 'nulos': 3.0,\n",
       " 'percNulos': 1.18,\n",
       " 'recurridos': 0.0,\n",
       " 'percRecurridos': 0.0,\n",
       " 'blancos': 8.0,\n",
       " 'percBlancos': 3.16,\n",
       " 'comando': 0.0,\n",
       " 'percComando': 0.0,\n",
       " 'impugnados': 1.0,\n",
       " 'percImpugnados': 0.39,\n",
       " 'totalVotos': 253.0,\n",
       " 'afirmativos': 241.0,\n",
       " 'percAfirmativos': 95.25,\n",
       " 'abstencion': 97.0,\n",
       " 'percAbstencion': 27.71,\n",
       " 'valid': 249.0,\n",
       " 'percValid': 98.41,\n",
       " 'recImpCom': 1.0,\n",
       " 'percRecImpCom': 0.39,\n",
       " 'participation': 72.28,\n",
       " 'isCircus': 1.0,\n",
       " 'umbral': 0.0,\n",
       " 'calcPerc': 'A',\n",
       " 'imagen': {'timestamp': 1698020423.0,\n",
       "  'counter': 11352579.0,\n",
       "  'randomValue1': 3781427.0,\n",
       "  'randomValue2': 21681.0},\n",
       " 'hayEmpates': False,\n",
       " 'partidos': [{'code': '134',\n",
       "   'name': 'UNION POR LA PATRIA',\n",
       "   'codTel': '134',\n",
       "   'codLogo': '000134',\n",
       "   'votos': 93.0,\n",
       "   'perc': 38.58,\n",
       "   'percCarg': 38.58,\n",
       "   'cargos': 0.0,\n",
       "   'candidatos': ['SERGIO TOMAS MASSA', 'AGUSTIN ROSSI'],\n",
       "   'listas': []},\n",
       "  {'code': '132',\n",
       "   'name': 'JUNTOS POR EL CAMBIO',\n",
       "   'codTel': '132',\n",
       "   'codLogo': '000132',\n",
       "   'votos': 76.0,\n",
       "   'perc': 31.53,\n",
       "   'percCarg': 31.53,\n",
       "   'cargos': 0.0,\n",
       "   'candidatos': ['PATRICIA BULLRICH', 'LUIS PETRI'],\n",
       "   'listas': []},\n",
       "  {'code': '135',\n",
       "   'name': 'LA LIBERTAD AVANZA',\n",
       "   'codTel': '135',\n",
       "   'codLogo': '000135',\n",
       "   'votos': 57.0,\n",
       "   'perc': 23.65,\n",
       "   'percCarg': 23.65,\n",
       "   'cargos': 0.0,\n",
       "   'candidatos': ['JAVIER GERARDO MILEI', 'VICTORIA VILLARRUEL'],\n",
       "   'listas': []},\n",
       "  {'code': '133',\n",
       "   'name': 'HACEMOS POR NUESTRO PAIS',\n",
       "   'codTel': '133',\n",
       "   'codLogo': '000133',\n",
       "   'votos': 9.0,\n",
       "   'perc': 3.73,\n",
       "   'percCarg': 3.73,\n",
       "   'cargos': 0.0,\n",
       "   'candidatos': ['JUAN SCHIARETTI', 'FLORENCIO RANDAZZO'],\n",
       "   'listas': []},\n",
       "  {'code': '136',\n",
       "   'name': 'FRENTE DE IZQUIERDA Y DE TRABAJADORES - UNIDAD',\n",
       "   'codTel': '136',\n",
       "   'codLogo': '000136',\n",
       "   'votos': 6.0,\n",
       "   'perc': 2.48,\n",
       "   'percCarg': 2.48,\n",
       "   'cargos': 0.0,\n",
       "   'candidatos': ['MYRIAM TERESA BREGMAN', 'NICOLAS DEL CAÑO'],\n",
       "   'listas': []}]}"
      ]
     },
     "execution_count": 12,
     "metadata": {},
     "output_type": "execute_result"
    }
   ],
   "source": [
    "content"
   ]
  },
  {
   "cell_type": "code",
   "execution_count": 23,
   "id": "92e3b51d-1a6d-435f-b201-9efe0421d696",
   "metadata": {},
   "outputs": [
    {
     "data": {
      "text/plain": [
       "dict_keys(['id', 'date', 'fathers', 'cargos', 'showCargos', 'census', 'pollingCensus', 'numStation', 'pollingNumStation', 'pollingPercCensus', 'pollingPercStation', 'electores', 'sobres', 'nulos', 'percNulos', 'recurridos', 'percRecurridos', 'blancos', 'percBlancos', 'comando', 'percComando', 'impugnados', 'percImpugnados', 'totalVotos', 'afirmativos', 'percAfirmativos', 'abstencion', 'percAbstencion', 'valid', 'percValid', 'recImpCom', 'percRecImpCom', 'participation', 'isCircus', 'umbral', 'calcPerc', 'imagen', 'hayEmpates', 'partidos'])"
      ]
     },
     "execution_count": 23,
     "metadata": {},
     "output_type": "execute_result"
    }
   ],
   "source": [
    "content.keys()"
   ]
  },
  {
   "cell_type": "code",
   "execution_count": null,
   "id": "b9a59752-2509-4009-8248-0d7d106003a5",
   "metadata": {},
   "outputs": [],
   "source": []
  },
  {
   "cell_type": "code",
   "execution_count": 261,
   "id": "449ef899-2272-4a42-962b-0bad6ba852ff",
   "metadata": {},
   "outputs": [],
   "source": [
    "def get_geo_info(content: dict) -> dict:\n",
    "    record = {}\n",
    "    for lvl in content['fathers']:\n",
    "        record[f\"lvl_{int(lvl['level'])}\"] = lvl['name']\n",
    "    return record\n",
    "\n",
    "INTERESTING_KEYS = ['census', 'electores', 'sobres', 'nulos', 'recurridos', 'blancos', 'comando', 'impugnados', 'totalVotos', 'afirmativos', 'abstencion', 'valid']\n",
    "\n",
    "def get_desk_data(content: dict) -> dict:\n",
    "    return{key:value for key, value in content.items() if key in INTERESTING_KEYS}\n",
    "\n",
    "ACRONYMS = {\n",
    "    'UNION POR LA PATRIA': \"UXP\",\n",
    "    'JUNTOS POR EL CAMBIO': \"JXC\",\n",
    "    'LA LIBERTAD AVANZA': \"LLA\",\n",
    "    'HACEMOS POR NUESTRO PAIS': \"HXNP\",\n",
    "    'FRENTE DE IZQUIERDA Y DE TRABAJADORES - UNIDAD': \"FIT\"\n",
    "}\n",
    "\n",
    "def get_votes_per_party(content:dict) -> dict:\n",
    "    record = {}\n",
    "    for party in content['partidos']:\n",
    "        record[ACRONYMS[party['name']]] = party['votos']\n",
    "    return record\n",
    "\n",
    "\n",
    "def process_desk_response(content:dict) -> dict:\n",
    "    return {**get_geo_info(content), **get_desk_data(content), **get_votes_per_party(content)}\n",
    "\n",
    "\n",
    "\n",
    "def request_desk_info(desk_code):\n",
    "    response = requests.get(BASE_URL.format(desk_code = desk_code))\n",
    "    if response.ok:\n",
    "        content = response.json()\n",
    "        with open(f'../data/raw/mesas/{desk_code}.json', 'w') as file:\n",
    "            json.dump(content, file)\n",
    "        return True, process_desk_response(response.json())\n",
    "    else:\n",
    "        return False, response.reason\n",
    "\n",
    "def load_desk_into_df():\n",
    "    desk_raw_dir = \"../data/raw/mesas\"\n",
    "    records = []\n",
    "    for desk_file in os.listdir(desk_raw_dir):\n",
    "        if not desk_file.endswith(\"X.json\"):\n",
    "            continue\n",
    "        with open(os.path.join(desk_raw_dir, desk_file), \"r\") as file:\n",
    "            desk_json = json.load(file)\n",
    "            record = process_desk_response(desk_json)\n",
    "            record[\"id_mesa\"] = desk_file.replace(\".json\", \"\")\n",
    "            records.append(record)\n",
    "    return pd.DataFrame(records)\n",
    "            \n",
    "    "
   ]
  },
  {
   "cell_type": "code",
   "execution_count": 262,
   "id": "7489f031-7162-46db-bd39-a5514075f38b",
   "metadata": {},
   "outputs": [],
   "source": [
    "df = load_desk_into_df()"
   ]
  },
  {
   "cell_type": "code",
   "execution_count": 39,
   "id": "59f1e552-d15b-45f5-b379-99374c22dd8e",
   "metadata": {},
   "outputs": [
    {
     "data": {
      "text/plain": [
       "{'lvl_7': 'COLEGIO SAN ROQUE',\n",
       " 'lvl_6': '00155',\n",
       " 'lvl_5': 'Campana',\n",
       " 'lvl_4': 'Campana',\n",
       " 'lvl_3': 'Sección Primera',\n",
       " 'lvl_2': 'Buenos Aires',\n",
       " 'lvl_1': 'Argentina',\n",
       " 'census': 350.0,\n",
       " 'electores': 253.0,\n",
       " 'sobres': 253.0,\n",
       " 'nulos': 3.0,\n",
       " 'recurridos': 0.0,\n",
       " 'blancos': 8.0,\n",
       " 'comando': 0.0,\n",
       " 'impugnados': 1.0,\n",
       " 'totalVotos': 253.0,\n",
       " 'afirmativos': 241.0,\n",
       " 'abstencion': 97.0,\n",
       " 'valid': 249.0,\n",
       " 'UXP': 93.0,\n",
       " 'JXC': 76.0,\n",
       " 'LLA': 57.0,\n",
       " 'HXNP': 9.0,\n",
       " 'FIT': 6.0}"
      ]
     },
     "execution_count": 39,
     "metadata": {},
     "output_type": "execute_result"
    }
   ],
   "source": [
    "process_desk_response(content)"
   ]
  },
  {
   "cell_type": "code",
   "execution_count": 29,
   "id": "a12bd873-b47f-4b66-9937-e40b733c70f3",
   "metadata": {},
   "outputs": [
    {
     "data": {
      "text/plain": [
       "{'census': 350.0,\n",
       " 'electores': 253.0,\n",
       " 'sobres': 253.0,\n",
       " 'nulos': 3.0,\n",
       " 'recurridos': 0.0,\n",
       " 'blancos': 8.0,\n",
       " 'comando': 0.0,\n",
       " 'impugnados': 1.0,\n",
       " 'totalVotos': 253.0,\n",
       " 'afirmativos': 241.0,\n",
       " 'abstencion': 97.0,\n",
       " 'valid': 249.0}"
      ]
     },
     "execution_count": 29,
     "metadata": {},
     "output_type": "execute_result"
    }
   ],
   "source": [
    "get_desk_data(content)"
   ]
  },
  {
   "cell_type": "code",
   "execution_count": 34,
   "id": "5a0b273c-32c7-4b30-a410-1ba154e41e9f",
   "metadata": {},
   "outputs": [
    {
     "data": {
      "text/plain": [
       "{'UXP': 93.0, 'JXC': 76.0, 'LLA': 57.0, 'HXNP': 9.0, 'FIT': 6.0}"
      ]
     },
     "execution_count": 34,
     "metadata": {},
     "output_type": "execute_result"
    }
   ],
   "source": [
    "get_votes_per_party(content)"
   ]
  },
  {
   "cell_type": "code",
   "execution_count": null,
   "id": "bd83df72-d5c5-4ab6-92f9-772e32bb9069",
   "metadata": {},
   "outputs": [],
   "source": []
  },
  {
   "cell_type": "code",
   "execution_count": 57,
   "id": "5c3c98a4-c64e-4753-bd6a-872095265ded",
   "metadata": {},
   "outputs": [
    {
     "name": "stdout",
     "output_type": "stream",
     "text": [
      "0100100516X Not Found\n",
      "0100200001X Not Found\n",
      "0200100047X Not Found\n",
      "0200200031X Not Found\n",
      "0200301308X Not Found\n",
      "0200400848X Not Found\n",
      "0200500062X Not Found\n",
      "0200600178X Not Found\n",
      "0200700727X Not Found\n",
      "0200800122X Not Found\n",
      "0200900095X Not Found\n",
      "0201000078X Not Found\n",
      "0201100788X Not Found\n",
      "0201200236X Not Found\n",
      "0201300097X Not Found\n",
      "0201400115X Not Found\n",
      "0201500079X Not Found\n",
      "0201600249X Not Found\n",
      "0201700150X Not Found\n",
      "0201800040X Not Found\n",
      "0201900063X Not Found\n",
      "0202000033X Not Found\n",
      "0202100042X Not Found\n",
      "0202200087X Not Found\n",
      "0202300026X Not Found\n",
      "0202400066X Not Found\n",
      "0202500048X Not Found\n",
      "0202600061X Not Found\n",
      "0202700152X Not Found\n",
      "0202800107X Not Found\n",
      "0202900132X Not Found\n",
      "0203000108X Not Found\n",
      "0203100182X Not Found\n",
      "0203200047X Not Found\n",
      "0203300076X Not Found\n",
      "0203400168X Not Found\n",
      "0203500566X Not Found\n",
      "0203600688X Not Found\n",
      "0203700097X Not Found\n",
      "0203800963X Not Found\n",
      "0203900115X Not Found\n",
      "0204000030X Not Found\n",
      "0204100049X Not Found\n",
      "0204200051X Not Found\n",
      "0204300012X Not Found\n",
      "0204400031X Not Found\n",
      "0204500043X Not Found\n",
      "0204600017X Not Found\n",
      "0204700059X Not Found\n",
      "0204800040X Not Found\n",
      "0204900032X Not Found\n",
      "0205001644X Not Found\n",
      "0205100265X Not Found\n",
      "0205201013X Not Found\n",
      "0205300705X Not Found\n",
      "0205400050X Not Found\n",
      "0205500080X Not Found\n",
      "0205600033X Not Found\n",
      "0205700032X Not Found\n",
      "0205800027X Not Found\n",
      "0205900057X Not Found\n",
      "0206000243X Not Found\n",
      "0206102995X Not Found\n",
      "0206201085X Not Found\n",
      "0206301654X Not Found\n",
      "0206400032X Not Found\n",
      "0206500071X Not Found\n",
      "0206600047X Not Found\n",
      "0206700120X Not Found\n",
      "0206800047X Not Found\n",
      "0206900100X Not Found\n",
      "0207001475X Not Found\n",
      "0207100279X Not Found\n",
      "0207200051X Not Found\n",
      "0207300033X Not Found\n",
      "0207400096X Not Found\n",
      "0207500141X Not Found\n",
      "0207600173X Not Found\n",
      "0207701220X Not Found\n",
      "0207800063X Not Found\n",
      "0207901039X Not Found\n",
      "0208000799X Not Found\n",
      "0208100051X Not Found\n",
      "0208200251X Not Found\n",
      "0208300134X Not Found\n",
      "0208400293X Not Found\n",
      "0208500108X Not Found\n",
      "0208600017X Not Found\n",
      "0208700276X Not Found\n",
      "0208800013X Not Found\n",
      "0208900795X Not Found\n",
      "0209000090X Not Found\n",
      "0209100046X Not Found\n",
      "0209201369X Not Found\n",
      "0209300094X Not Found\n",
      "0209400047X Not Found\n",
      "0209500047X Not Found\n",
      "0209600067X Not Found\n",
      "0209700037X Not Found\n",
      "0209800057X Not Found\n",
      "0209900090X Not Found\n",
      "0210000024X Not Found\n",
      "0210100092X Not Found\n",
      "0210200064X Not Found\n",
      "0210300064X Not Found\n",
      "0210400025X Not Found\n",
      "0210500398X Not Found\n",
      "0210600782X Not Found\n",
      "0210700374X Not Found\n",
      "0210800161X Not Found\n",
      "0210900189X Not Found\n",
      "0211000031X Not Found\n",
      "0211100338X Not Found\n",
      "0211200030X Not Found\n",
      "0211300948X Not Found\n",
      "0211400048X Not Found\n",
      "0211500123X Not Found\n",
      "0211600008X Not Found\n",
      "0211700159X Not Found\n",
      "0211800818X Not Found\n",
      "0211900230X Not Found\n",
      "0212000028X Not Found\n",
      "0212100098X Not Found\n",
      "0212200669X Not Found\n",
      "0212300095X Not Found\n",
      "0212400075X Not Found\n",
      "0212500296X Not Found\n",
      "0212600022X Not Found\n",
      "0212700025X Not Found\n",
      "0212800205X Not Found\n",
      "0212900659X Not Found\n",
      "0213000802X Not Found\n",
      "0213100032X Not Found\n",
      "0213200411X Not Found\n",
      "0213300424X Not Found\n",
      "0213400454X Not Found\n",
      "0213500016X Not Found\n",
      "0213600001X Not Found\n",
      "0300100411X Not Found\n",
      "0300200001X Not Found\n",
      "0400103295X Not Found\n",
      "0400200001X Not Found\n",
      "0500100900X Not Found\n",
      "0500200001X Not Found\n",
      "0600101063X Not Found\n",
      "0600200001X Not Found\n",
      "0700100357X Not Found\n",
      "0700200001X Not Found\n",
      "0800100935X Not Found\n",
      "0800200001X Not Found\n",
      "0900100615X Not Found\n",
      "0900200001X Not Found\n",
      "1000100690X Not Found\n",
      "1000200001X Not Found\n",
      "1100100033X Not Found\n",
      "1100200001X Not Found\n",
      "1200100486X Not Found\n",
      "1200200001X Not Found\n",
      "1300100299X Not Found\n",
      "1300200001X Not Found\n",
      "1400100853X Not Found\n",
      "1400200001X Not Found\n",
      "1500101056X Not Found\n",
      "1500200001X Not Found\n",
      "1600100181X Not Found\n",
      "1600200001X Not Found\n",
      "1700100001X Not Found\n",
      "1800100285X Not Found\n",
      "1800200001X Not Found\n",
      "1900100595X Not Found\n",
      "1900200001X Not Found\n",
      "2000100343X Not Found\n",
      "2000200001X Not Found\n",
      "2100101331X Not Found\n",
      "2100200001X Not Found\n",
      "2200100751X Not Found\n",
      "2200200001X Not Found\n",
      "2300101345X Not Found\n",
      "2300200001X Not Found\n",
      "2400100225X Not Found\n",
      "2400200001X Not Found\n"
     ]
    }
   ],
   "source": [
    "records = []\n",
    "broke = False\n",
    "for province in range(1, 25):\n",
    "    province_id = str(province).zfill(2)\n",
    "    for district in range(1, 999):\n",
    "        district_id = str(district).zfill(3)\n",
    "        for desk in range(1, 99999):\n",
    "            desk_id = str(desk).zfill(5)\n",
    "            desk_code = f'{province_id}{district_id}{desk_id}X'\n",
    "            ok, record = request_desk_info(desk_code)\n",
    "            if ok:\n",
    "                records.append(record)\n",
    "            else:\n",
    "                print(desk_code, record)\n",
    "                break\n",
    "        if desk_id == '00001':\n",
    "            break\n",
    "        \n",
    "            "
   ]
  },
  {
   "cell_type": "code",
   "execution_count": 263,
   "id": "33a9921d-709a-43dd-9f35-ceb742dee089",
   "metadata": {},
   "outputs": [
    {
     "data": {
      "text/plain": [
       "(104450, 25)"
      ]
     },
     "execution_count": 263,
     "metadata": {},
     "output_type": "execute_result"
    }
   ],
   "source": [
    "df.shape"
   ]
  },
  {
   "cell_type": "code",
   "execution_count": 264,
   "id": "c96c480c-55f8-476d-a944-aebdfa24af03",
   "metadata": {},
   "outputs": [
    {
     "data": {
      "text/plain": [
       "UXP     0.355953\n",
       "LLA     0.290895\n",
       "JXC     0.231277\n",
       "HXNP    0.065847\n",
       "FIT     0.026194\n",
       "dtype: float64"
      ]
     },
     "execution_count": 264,
     "metadata": {},
     "output_type": "execute_result"
    }
   ],
   "source": [
    "df[ACRONYMS.values()].sum().sort_values(ascending=False) / df.totalVotos.sum()"
   ]
  },
  {
   "cell_type": "code",
   "execution_count": 267,
   "id": "9f321c19-baa3-4831-9c05-1f6e7cad48d1",
   "metadata": {},
   "outputs": [
    {
     "data": {
      "text/plain": [
       "UXP     9640838.0\n",
       "LLA     7878772.0\n",
       "JXC     6264045.0\n",
       "HXNP    1783438.0\n",
       "FIT      709442.0\n",
       "dtype: float64"
      ]
     },
     "execution_count": 267,
     "metadata": {},
     "output_type": "execute_result"
    }
   ],
   "source": [
    "df[ACRONYMS.values()].sum().sort_values(ascending=False)"
   ]
  },
  {
   "cell_type": "code",
   "execution_count": 265,
   "id": "ca7bfbb8-ad2e-4adf-8bfa-e5368348a24d",
   "metadata": {},
   "outputs": [
    {
     "data": {
      "text/plain": [
       "35387828.0"
      ]
     },
     "execution_count": 265,
     "metadata": {},
     "output_type": "execute_result"
    }
   ],
   "source": [
    "df.census.sum()"
   ]
  },
  {
   "cell_type": "code",
   "execution_count": 266,
   "id": "e9aefef9-6d48-4cdc-8e37-0ca33c2620ec",
   "metadata": {},
   "outputs": [
    {
     "data": {
      "text/plain": [
       "27084619.0"
      ]
     },
     "execution_count": 266,
     "metadata": {},
     "output_type": "execute_result"
    }
   ],
   "source": [
    "df.totalVotos.sum()"
   ]
  },
  {
   "cell_type": "code",
   "execution_count": 256,
   "id": "df2683e5-ebf7-4746-bf7c-5572f1ef1484",
   "metadata": {},
   "outputs": [
    {
     "data": {
      "text/plain": [
       "0.046624793262014706"
      ]
     },
     "execution_count": 256,
     "metadata": {},
     "output_type": "execute_result"
    }
   ],
   "source": [
    "(df.electores != df.sobres).mean()"
   ]
  },
  {
   "cell_type": "code",
   "execution_count": 150,
   "id": "e341e248-ef13-41d1-bfe7-2755cbd2590e",
   "metadata": {},
   "outputs": [
    {
     "data": {
      "text/plain": [
       "lvl_2\n",
       "Buenos Aires                                             38074\n",
       "Catamarca                                                 1058\n",
       "Chaco                                                     2947\n",
       "Chubut                                                    1416\n",
       "Ciudad Autónoma de Buenos Aires                           7360\n",
       "Corrientes                                                2760\n",
       "Córdoba                                                   9097\n",
       "Entre Ríos                                                 934\n",
       "Formosa                                                   1484\n",
       "Jujuy                                                     1825\n",
       "La Pampa                                                   901\n",
       "La Rioja                                                   955\n",
       "Mendoza                                                   4357\n",
       "Misiones                                                  2855\n",
       "Neuquén                                                   1156\n",
       "Río Negro                                                  180\n",
       "Salta                                                     3292\n",
       "San Juan                                                  1810\n",
       "San Luis                                                  1311\n",
       "Santa Cruz                                                 342\n",
       "Santa Fe                                                  8332\n",
       "Santiago del Estero                                       2464\n",
       "Tierra del Fuego, Antártida e Islas del Atlántico Sur      224\n",
       "Tucumán                                                   3919\n",
       "Name: lvl_1, dtype: int64"
      ]
     },
     "execution_count": 150,
     "metadata": {},
     "output_type": "execute_result"
    }
   ],
   "source": [
    "df.groupby(\"lvl_2\").lvl_1.count()"
   ]
  },
  {
   "cell_type": "code",
   "execution_count": 119,
   "id": "245fd5e2-ea08-41f6-8fdb-90f7a2558b4b",
   "metadata": {},
   "outputs": [
    {
     "data": {
      "text/html": [
       "<div>\n",
       "<style scoped>\n",
       "    .dataframe tbody tr th:only-of-type {\n",
       "        vertical-align: middle;\n",
       "    }\n",
       "\n",
       "    .dataframe tbody tr th {\n",
       "        vertical-align: top;\n",
       "    }\n",
       "\n",
       "    .dataframe thead th {\n",
       "        text-align: right;\n",
       "    }\n",
       "</style>\n",
       "<table border=\"1\" class=\"dataframe\">\n",
       "  <thead>\n",
       "    <tr style=\"text-align: right;\">\n",
       "      <th></th>\n",
       "      <th>lvl_7</th>\n",
       "      <th>lvl_6</th>\n",
       "      <th>lvl_5</th>\n",
       "      <th>lvl_4</th>\n",
       "      <th>lvl_2</th>\n",
       "      <th>lvl_1</th>\n",
       "      <th>census</th>\n",
       "      <th>electores</th>\n",
       "      <th>sobres</th>\n",
       "      <th>nulos</th>\n",
       "      <th>...</th>\n",
       "      <th>totalVotos</th>\n",
       "      <th>afirmativos</th>\n",
       "      <th>abstencion</th>\n",
       "      <th>valid</th>\n",
       "      <th>UXP</th>\n",
       "      <th>JXC</th>\n",
       "      <th>LLA</th>\n",
       "      <th>FIT</th>\n",
       "      <th>HXNP</th>\n",
       "      <th>lvl_3</th>\n",
       "    </tr>\n",
       "  </thead>\n",
       "  <tbody>\n",
       "    <tr>\n",
       "      <th>0</th>\n",
       "      <td>ESC. Nº26 HIPOLITO YRIGOYEN</td>\n",
       "      <td>00001</td>\n",
       "      <td>Comuna 1</td>\n",
       "      <td>Comuna 01</td>\n",
       "      <td>Ciudad Autónoma de Buenos Aires</td>\n",
       "      <td>Argentina</td>\n",
       "      <td>345.0</td>\n",
       "      <td>233.0</td>\n",
       "      <td>233.0</td>\n",
       "      <td>3.0</td>\n",
       "      <td>...</td>\n",
       "      <td>233.0</td>\n",
       "      <td>222.0</td>\n",
       "      <td>112.0</td>\n",
       "      <td>230.0</td>\n",
       "      <td>96.0</td>\n",
       "      <td>65.0</td>\n",
       "      <td>44.0</td>\n",
       "      <td>13.0</td>\n",
       "      <td>4.0</td>\n",
       "      <td>NaN</td>\n",
       "    </tr>\n",
       "    <tr>\n",
       "      <th>1</th>\n",
       "      <td>ESC. Nº26 HIPOLITO YRIGOYEN</td>\n",
       "      <td>00001</td>\n",
       "      <td>Comuna 1</td>\n",
       "      <td>Comuna 01</td>\n",
       "      <td>Ciudad Autónoma de Buenos Aires</td>\n",
       "      <td>Argentina</td>\n",
       "      <td>339.0</td>\n",
       "      <td>238.0</td>\n",
       "      <td>238.0</td>\n",
       "      <td>1.0</td>\n",
       "      <td>...</td>\n",
       "      <td>238.0</td>\n",
       "      <td>236.0</td>\n",
       "      <td>101.0</td>\n",
       "      <td>237.0</td>\n",
       "      <td>102.0</td>\n",
       "      <td>86.0</td>\n",
       "      <td>38.0</td>\n",
       "      <td>6.0</td>\n",
       "      <td>4.0</td>\n",
       "      <td>NaN</td>\n",
       "    </tr>\n",
       "    <tr>\n",
       "      <th>2</th>\n",
       "      <td>ESC. Nº26 HIPOLITO YRIGOYEN</td>\n",
       "      <td>00001</td>\n",
       "      <td>Comuna 1</td>\n",
       "      <td>Comuna 01</td>\n",
       "      <td>Ciudad Autónoma de Buenos Aires</td>\n",
       "      <td>Argentina</td>\n",
       "      <td>342.0</td>\n",
       "      <td>234.0</td>\n",
       "      <td>234.0</td>\n",
       "      <td>4.0</td>\n",
       "      <td>...</td>\n",
       "      <td>234.0</td>\n",
       "      <td>227.0</td>\n",
       "      <td>108.0</td>\n",
       "      <td>230.0</td>\n",
       "      <td>97.0</td>\n",
       "      <td>84.0</td>\n",
       "      <td>35.0</td>\n",
       "      <td>6.0</td>\n",
       "      <td>5.0</td>\n",
       "      <td>NaN</td>\n",
       "    </tr>\n",
       "    <tr>\n",
       "      <th>3</th>\n",
       "      <td>ESC. Nº26 HIPOLITO YRIGOYEN</td>\n",
       "      <td>00001</td>\n",
       "      <td>Comuna 1</td>\n",
       "      <td>Comuna 01</td>\n",
       "      <td>Ciudad Autónoma de Buenos Aires</td>\n",
       "      <td>Argentina</td>\n",
       "      <td>345.0</td>\n",
       "      <td>255.0</td>\n",
       "      <td>255.0</td>\n",
       "      <td>0.0</td>\n",
       "      <td>...</td>\n",
       "      <td>255.0</td>\n",
       "      <td>252.0</td>\n",
       "      <td>90.0</td>\n",
       "      <td>255.0</td>\n",
       "      <td>118.0</td>\n",
       "      <td>77.0</td>\n",
       "      <td>41.0</td>\n",
       "      <td>12.0</td>\n",
       "      <td>4.0</td>\n",
       "      <td>NaN</td>\n",
       "    </tr>\n",
       "    <tr>\n",
       "      <th>4</th>\n",
       "      <td>ESC. Nº26 HIPOLITO YRIGOYEN</td>\n",
       "      <td>00001</td>\n",
       "      <td>Comuna 1</td>\n",
       "      <td>Comuna 01</td>\n",
       "      <td>Ciudad Autónoma de Buenos Aires</td>\n",
       "      <td>Argentina</td>\n",
       "      <td>351.0</td>\n",
       "      <td>0.0</td>\n",
       "      <td>0.0</td>\n",
       "      <td>0.0</td>\n",
       "      <td>...</td>\n",
       "      <td>0.0</td>\n",
       "      <td>0.0</td>\n",
       "      <td>0.0</td>\n",
       "      <td>0.0</td>\n",
       "      <td>0.0</td>\n",
       "      <td>0.0</td>\n",
       "      <td>0.0</td>\n",
       "      <td>0.0</td>\n",
       "      <td>0.0</td>\n",
       "      <td>NaN</td>\n",
       "    </tr>\n",
       "  </tbody>\n",
       "</table>\n",
       "<p>5 rows × 24 columns</p>\n",
       "</div>"
      ],
      "text/plain": [
       "                         lvl_7  lvl_6     lvl_5      lvl_4  \\\n",
       "0  ESC. Nº26 HIPOLITO YRIGOYEN  00001  Comuna 1  Comuna 01   \n",
       "1  ESC. Nº26 HIPOLITO YRIGOYEN  00001  Comuna 1  Comuna 01   \n",
       "2  ESC. Nº26 HIPOLITO YRIGOYEN  00001  Comuna 1  Comuna 01   \n",
       "3  ESC. Nº26 HIPOLITO YRIGOYEN  00001  Comuna 1  Comuna 01   \n",
       "4  ESC. Nº26 HIPOLITO YRIGOYEN  00001  Comuna 1  Comuna 01   \n",
       "\n",
       "                             lvl_2      lvl_1  census  electores  sobres  \\\n",
       "0  Ciudad Autónoma de Buenos Aires  Argentina   345.0      233.0   233.0   \n",
       "1  Ciudad Autónoma de Buenos Aires  Argentina   339.0      238.0   238.0   \n",
       "2  Ciudad Autónoma de Buenos Aires  Argentina   342.0      234.0   234.0   \n",
       "3  Ciudad Autónoma de Buenos Aires  Argentina   345.0      255.0   255.0   \n",
       "4  Ciudad Autónoma de Buenos Aires  Argentina   351.0        0.0     0.0   \n",
       "\n",
       "   nulos  ...  totalVotos  afirmativos  abstencion  valid    UXP   JXC   LLA  \\\n",
       "0    3.0  ...       233.0        222.0       112.0  230.0   96.0  65.0  44.0   \n",
       "1    1.0  ...       238.0        236.0       101.0  237.0  102.0  86.0  38.0   \n",
       "2    4.0  ...       234.0        227.0       108.0  230.0   97.0  84.0  35.0   \n",
       "3    0.0  ...       255.0        252.0        90.0  255.0  118.0  77.0  41.0   \n",
       "4    0.0  ...         0.0          0.0         0.0    0.0    0.0   0.0   0.0   \n",
       "\n",
       "    FIT  HXNP  lvl_3  \n",
       "0  13.0   4.0    NaN  \n",
       "1   6.0   4.0    NaN  \n",
       "2   6.0   5.0    NaN  \n",
       "3  12.0   4.0    NaN  \n",
       "4   0.0   0.0    NaN  \n",
       "\n",
       "[5 rows x 24 columns]"
      ]
     },
     "execution_count": 119,
     "metadata": {},
     "output_type": "execute_result"
    }
   ],
   "source": [
    "df.to_csv(\"../data/first_iteration.csv\", index = False)\n",
    "df.head()"
   ]
  },
  {
   "cell_type": "code",
   "execution_count": 66,
   "id": "0e0abb35-71ed-4215-bd72-e3f10f52708a",
   "metadata": {},
   "outputs": [],
   "source": [
    "import os\n"
   ]
  },
  {
   "cell_type": "code",
   "execution_count": 84,
   "id": "61264f34-814f-440f-bd94-e210a6efb4d5",
   "metadata": {},
   "outputs": [],
   "source": [
    "already_scrapped = [desk.replace('.json', '') for desk in os.listdir(\"../data/raw/mesas\")]"
   ]
  },
  {
   "cell_type": "code",
   "execution_count": 85,
   "id": "de1653f9-cfd6-42ee-aec7-a44de883a43b",
   "metadata": {},
   "outputs": [
    {
     "data": {
      "text/plain": [
       "79811"
      ]
     },
     "execution_count": 85,
     "metadata": {},
     "output_type": "execute_result"
    }
   ],
   "source": [
    "len(already_scrapped)"
   ]
  },
  {
   "cell_type": "code",
   "execution_count": 246,
   "id": "a0561484-81ea-4599-a30f-0b80f55e0b2d",
   "metadata": {},
   "outputs": [
    {
     "name": "stdout",
     "output_type": "stream",
     "text": [
      "province_id='24' district_id='005' desk=510\n",
      "2400500531X Not Found\n",
      "province_id='24' district_id='006' desk=531\n",
      "2400600531X Not Found\n"
     ]
    }
   ],
   "source": [
    "for province in list(range(24, 25)):\n",
    "    province_id = str(province).zfill(2)\n",
    "    desk = 510\n",
    "    for district in range(5, 999):\n",
    "        ok = True\n",
    "        first_desk = desk\n",
    "        district_id = str(district).zfill(3)\n",
    "        print(f\"{province_id=} {district_id=} {desk=}\")\n",
    "        while ok:\n",
    "            desk_id = str(desk).zfill(5)\n",
    "            desk_code = f'{province_id}{district_id}{desk_id}X'\n",
    "            if desk_code in already_scrapped:\n",
    "                desk += 1\n",
    "                continue\n",
    "            ok, record = request_desk_info(desk_code)\n",
    "            if ok:\n",
    "                records.append(record)\n",
    "                desk += 1\n",
    "            else:\n",
    "                print(desk_code, record)\n",
    "                break\n",
    "            \n",
    "        if first_desk == desk:\n",
    "            break"
   ]
  },
  {
   "cell_type": "code",
   "execution_count": 233,
   "id": "188422c8-56ae-4e5c-95e8-8d183455132c",
   "metadata": {},
   "outputs": [],
   "source": [
    "salta = [desk.replace('.json', '') for desk in os.listdir(\"../data/raw/mesas\") if desk.replace('.json', '').startswith('24')]"
   ]
  },
  {
   "cell_type": "code",
   "execution_count": 234,
   "id": "cfcc9759-1683-4253-85e3-bcb852041bca",
   "metadata": {},
   "outputs": [],
   "source": [
    "salta.sort()"
   ]
  },
  {
   "cell_type": "code",
   "execution_count": 235,
   "id": "5bc13143-9124-41b6-8b67-130184bdb5e5",
   "metadata": {},
   "outputs": [
    {
     "data": {
      "text/plain": [
       "['2400200483X',\n",
       " '2400200484X',\n",
       " '2400200485X',\n",
       " '2400200486X',\n",
       " '2400200487X',\n",
       " '2400200488X',\n",
       " '2400200489X',\n",
       " '2400200490X',\n",
       " '2400200491X',\n",
       " '2400200492X']"
      ]
     },
     "execution_count": 235,
     "metadata": {},
     "output_type": "execute_result"
    }
   ],
   "source": [
    "salta[-10:]"
   ]
  },
  {
   "cell_type": "code",
   "execution_count": null,
   "id": "e28ade31-b527-48ab-8965-d4f17929b190",
   "metadata": {},
   "outputs": [],
   "source": []
  }
 ],
 "metadata": {
  "kernelspec": {
   "display_name": "Python 3 (ipykernel)",
   "language": "python",
   "name": "python3"
  },
  "language_info": {
   "codemirror_mode": {
    "name": "ipython",
    "version": 3
   },
   "file_extension": ".py",
   "mimetype": "text/x-python",
   "name": "python",
   "nbconvert_exporter": "python",
   "pygments_lexer": "ipython3",
   "version": "3.8.10"
  }
 },
 "nbformat": 4,
 "nbformat_minor": 5
}
